{
  "nbformat": 4,
  "nbformat_minor": 0,
  "metadata": {
    "colab": {
      "provenance": []
    },
    "kernelspec": {
      "name": "python3",
      "display_name": "Python 3"
    },
    "language_info": {
      "name": "python"
    }
  },
  "cells": [
    {
      "cell_type": "code",
      "execution_count": 16,
      "metadata": {
        "colab": {
          "base_uri": "https://localhost:8080/"
        },
        "id": "zwytEepe7J-h",
        "outputId": "5a2bd6db-2bbe-4c87-e1f5-6f247b5e7bcc"
      },
      "outputs": [
        {
          "output_type": "stream",
          "name": "stdout",
          "text": [
            "Enter Time In Seconds: 5\n",
            " 00:00 \n",
            " TIME!\n"
          ]
        }
      ],
      "source": [
        "import time\n",
        "a = int(input(\"Enter Time In Seconds: \"))\n",
        "\n",
        "def countdown(t):\n",
        "  while t >= 0:\n",
        "    mins, secs = divmod(t, 60)\n",
        "    timeformat = '{:02d}:{:02d}'.format(mins, secs)\n",
        "    print(\"\\r\",timeformat,end=\" \")\n",
        "    time.sleep(1)\n",
        "    t = t-1\n",
        "  print(\"\\n\",\"TIME!\")\n",
        "\n",
        "countdown(a)"
      ]
    },
    {
      "cell_type": "code",
      "source": [],
      "metadata": {
        "id": "A0bRHX6cJXgj"
      },
      "execution_count": null,
      "outputs": []
    }
  ]
}